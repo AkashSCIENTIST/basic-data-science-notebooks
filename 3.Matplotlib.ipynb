{
 "cells": [
  {
   "cell_type": "markdown",
   "metadata": {},
   "source": [
    "# Matplotlib\n",
    "\n",
    "Matplotlib is know for the data visualization. It is a cross-platform library for making 2D plots from data in arrays. "
   ]
  },
  {
   "cell_type": "markdown",
   "metadata": {},
   "source": [
    "**Import Numpy**"
   ]
  },
  {
   "cell_type": "code",
   "execution_count": 1,
   "metadata": {},
   "outputs": [],
   "source": [
    "import numpy as np"
   ]
  },
  {
   "cell_type": "code",
   "execution_count": 2,
   "metadata": {},
   "outputs": [
    {
     "name": "stdout",
     "output_type": "stream",
     "text": [
      "x= [0 1 2 3 4 5 6 7 8 9]\n",
      "y= [ 0.          1.22222222  2.44444444  3.66666667  4.88888889  6.11111111\n",
      "  7.33333333  8.55555556  9.77777778 11.        ]\n"
     ]
    }
   ],
   "source": [
    "x=np.arange(0,10,1)\n",
    "y=np.linspace(0,11,10)\n",
    "\n",
    "print(\"x=\",x)\n",
    "print(\"y=\",y)"
   ]
  },
  {
   "cell_type": "markdown",
   "metadata": {},
   "source": [
    "**Importing Matplotlib library**\n",
    "\n",
    "matplotlib.pyplot is a collection of command style functions that make Matplotlib work like MATLAB. Each Pyplot function makes creates a figure, a plotting area in a figure, plots some lines in a plotting area, plot labels and legends etc."
   ]
  },
  {
   "cell_type": "code",
   "execution_count": 18,
   "metadata": {},
   "outputs": [],
   "source": [
    "import matplotlib.pyplot as plt"
   ]
  },
  {
   "cell_type": "markdown",
   "metadata": {},
   "source": [
    "**Plot**"
   ]
  },
  {
   "cell_type": "markdown",
   "metadata": {},
   "source": [
    "plot(x, y, color='green', marker='o', linestyle='dashed', linewidth=2, markersize=12)"
   ]
  },
  {
   "cell_type": "code",
   "execution_count": 12,
   "metadata": {
    "scrolled": true
   },
   "outputs": [
    {
     "data": {
      "image/png": "[encoded data removed]",
      "text/plain": [
       "<Figure size 432x288 with 1 Axes>"
      ]
     },
     "metadata": {
      "needs_background": "light"
     },
     "output_type": "display_data"
    }
   ],
   "source": [
    "#Plot a graph between x=x and y=y*y, with red colour and marker \".\"\n",
    "#Label x and y axis and give a title Square plot\n",
    "plt.plot(x,y*y,'r.')\n",
    "plt.xlabel(\"x\")\n",
    "plt.ylabel(\"y\")\n",
    "plt.title(\"Square plot\")\n",
    "plt.show()"
   ]
  },
  {
   "cell_type": "markdown",
   "metadata": {},
   "source": [
    "**Figure class**\n",
    "\n",
    "plt.figure(\n",
    "    num=None,\n",
    "    figsize=None,\n",
    "    dpi=None,\n",
    "    facecolor=None,\n",
    "    edgecolor=None,\n",
    "    frameon=True,\n",
    "    FigureClass=<class 'matplotlib.figure.Figure'>,\n",
    "    clear=False,\n",
    "    **kwargs,\n",
    ")\n",
    "\n",
    "\n",
    "Matplotlib allows the aspect ratio, DPI and figure size to be specified when the Figure object is created. You can use the `figsize` and `dpi` keyword arguments. \n",
    "\n",
    "* `figsize`  (width,height) tuple in inches\n",
    "* `dpi`: dots per inches\n",
    "* `facecolor`: background color (default is white`figure.facecolor` = ``'w'``)\n",
    "* `edgecolor`: the border color. (defaults to `figure.edgecolor` = ``'w'``)"
   ]
  },
  {
   "cell_type": "code",
   "execution_count": 13,
   "metadata": {},
   "outputs": [
    {
     "data": {
      "text/plain": [
       "<Figure size 432x288 with 0 Axes>"
      ]
     },
     "metadata": {},
     "output_type": "display_data"
    }
   ],
   "source": [
    "fig = plt.figure()\n"
   ]
  },
  {
   "cell_type": "markdown",
   "metadata": {},
   "source": [
    "**Axes**\n",
    "\n",
    "Axes object is the region of the image with the data space. A given figure can contain many Axes, but a given Axes object can only be in one Figure. Axes object is added to figure by calling the add_axes() method. \n",
    "\n",
    "It returns the axes object and adds an axes at position rect [left, bottom, width, height]"
   ]
  },
  {
   "cell_type": "code",
   "execution_count": 14,
   "metadata": {},
   "outputs": [
    {
     "data": {
      "image/png": "[encoded data removed]",
      "text/plain": [
       "<Figure size 432x288 with 1 Axes>"
      ]
     },
     "metadata": {
      "needs_background": "light"
     },
     "output_type": "display_data"
    }
   ],
   "source": [
    "#Create a rectange using add_axes() using dimensions [left, bottom, width, height] as [0.8,0.8,0.5,0.5]\n",
    "fig = plt.figure()\n",
    "axes = fig.add_axes([0.8,0.8,0.5,0.5])"
   ]
  },
  {
   "cell_type": "code",
   "execution_count": 15,
   "metadata": {},
   "outputs": [
    {
     "data": {
      "image/png": "[encoded data removed]",
      "text/plain": [
       "<Figure size 720x216 with 2 Axes>"
      ]
     },
     "metadata": {
      "needs_background": "light"
     },
     "output_type": "display_data"
    }
   ],
   "source": [
    "#Create a subplots with 1 row and 2 columns and size of (10,3)\n",
    "fig,ax = plt.subplots(nrows=1,ncols=2,figsize=(10,3), dpi=72)"
   ]
  },
  {
   "cell_type": "markdown",
   "metadata": {},
   "source": [
    "**Color codes for Lines**"
   ]
  },
  {
   "cell_type": "markdown",
   "metadata": {},
   "source": [
    "* `b`  Blue\n",
    "* `g`  Green \n",
    "* `r`  Red \n",
    "* `y`  Yellow"
   ]
  },
  {
   "cell_type": "markdown",
   "metadata": {},
   "source": [
    "**Markers**\n",
    "\n",
    "* `.`\tPoint marker\n",
    "* `o`\tCircle marker\n",
    "* `x`\tX marker\n",
    "* `D`\tDiamond marker\n",
    "* `H`\tHexagon marker\n",
    "* `s`\tSquare marker\n",
    "* `+`\tPlus marker"
   ]
  },
  {
   "cell_type": "markdown",
   "metadata": {},
   "source": [
    "**Lines Types**\n",
    "\n",
    "* `-`\tSolid line\n",
    "* `—`\tDashed line\n",
    "* `-.`\tDash-dot line\n",
    "* `:`\tDotted line\n",
    "* `H`\tHexagon marker"
   ]
  },
  {
   "cell_type": "markdown",
   "metadata": {},
   "source": [
    "**Legend**\n",
    "\n",
    "The legend() method of axes class adds a legend to the plot figure.\n",
    "\n",
    "ax.legend(handles, labels, loc)\n",
    "* loc = ``'upper left (2)', 'upper right (1)', 'lower left(8)', 'lower right(9)'``\n"
   ]
  },
  {
   "cell_type": "code",
   "execution_count": 16,
   "metadata": {},
   "outputs": [
    {
     "name": "stdout",
     "output_type": "stream",
     "text": [
      "x = [0 1 2 3 4 5 6 7 8 9]\n",
      "y= [ 0.          1.22222222  2.44444444  3.66666667  4.88888889  6.11111111\n",
      "  7.33333333  8.55555556  9.77777778 11.        ]\n"
     ]
    }
   ],
   "source": [
    "print('x =',x)\n",
    "print('y=',y)"
   ]
  },
  {
   "cell_type": "code",
   "execution_count": 28,
   "metadata": {},
   "outputs": [
    {
     "data": {
      "image/png": "[encoded data removed]",
      "text/plain": [
       "<Figure size 432x288 with 1 Axes>"
      ]
     },
     "metadata": {
      "needs_background": "light"
     },
     "output_type": "display_data"
    }
   ],
   "source": [
    "#Plot a two graphs in a single figure using figure and axes. \n",
    "#Use seperate markers and colours from the above list\n",
    "#Create legends for both the plots\n",
    "#Set title, x-axis and y-axis labels. \n",
    "\n",
    "fig = plt.figure()\n",
    "ax = fig.add_axes([0,0,1,1])\n",
    "l1 = ax.plot(x,y,\"ys-\")\n",
    "l2 = ax.plot(x,y*y,\"ro--\")\n",
    "ax.set_xlabel(\"X\")\n",
    "ax.set_ylabel(\"Y\")\n",
    "ax.set_title(\"Liner vs Quadratic\")\n",
    "ax.legend(labels = (\"liner\",\"quadraatic\"), loc = 2)\n",
    "plt.show()"
   ]
  },
  {
   "cell_type": "markdown",
   "metadata": {},
   "source": [
    "**Object Oriented Subplots**"
   ]
  },
  {
   "cell_type": "markdown",
   "metadata": {},
   "source": [
    "### SubPlots\n",
    "\n",
    "subplots() acts as a utility wrapper and helps in creating common layouts of subplots, including the enclosing figure object, in a single call. nrows and ncols are used as arguments to specify the grid for the layout.\n",
    "\n",
    "**plt.subplot(nrows,ncols)**"
   ]
  },
  {
   "cell_type": "code",
   "execution_count": 30,
   "metadata": {},
   "outputs": [
    {
     "data": {
      "text/plain": [
       "Text(0.5, 1.0, 'Cube')"
      ]
     },
     "execution_count": 30,
     "metadata": {},
     "output_type": "execute_result"
    },
    {
     "data": {
      "image/png": "[encoded data removed]",
      "text/plain": [
       "<Figure size 432x288 with 2 Axes>"
      ]
     },
     "metadata": {
      "needs_background": "light"
     },
     "output_type": "display_data"
    }
   ],
   "source": [
    "#Create one row two columns (figures) plots using subplots\n",
    "#Create first plot as bar plot for square and give it a title 'Square'\n",
    "#Create second plot as a plot for cube function and give it a title 'Cube'\n",
    "plt.subplot(1,2,1)\n",
    "plt.bar(x=x, height = x*x)\n",
    "plt.title(\"Square\")\n",
    "\n",
    "plt.subplot(1,2,2)\n",
    "plt.plot(x, x*x*x)\n",
    "plt.title(\"Cube\")"
   ]
  },
  {
   "cell_type": "markdown",
   "metadata": {},
   "source": [
    "**Create dataframe using Pandas**"
   ]
  },
  {
   "cell_type": "markdown",
   "metadata": {},
   "source": [
    "**Import Pandas**"
   ]
  },
  {
   "cell_type": "code",
   "execution_count": 31,
   "metadata": {},
   "outputs": [],
   "source": [
    "import pandas as pd"
   ]
  },
  {
   "cell_type": "code",
   "execution_count": 32,
   "metadata": {},
   "outputs": [
    {
     "data": {
      "text/html": [
       "<div>\n",
       "<style scoped>\n",
       "    .dataframe tbody tr th:only-of-type {\n",
       "        vertical-align: middle;\n",
       "    }\n",
       "\n",
       "    .dataframe tbody tr th {\n",
       "        vertical-align: top;\n",
       "    }\n",
       "\n",
       "    .dataframe thead th {\n",
       "        text-align: right;\n",
       "    }\n",
       "</style>\n",
       "<table border=\"1\" class=\"dataframe\">\n",
       "  <thead>\n",
       "    <tr style=\"text-align: right;\">\n",
       "      <th></th>\n",
       "      <th>a</th>\n",
       "      <th>b</th>\n",
       "      <th>c</th>\n",
       "      <th>d</th>\n",
       "    </tr>\n",
       "  </thead>\n",
       "  <tbody>\n",
       "    <tr>\n",
       "      <th>0</th>\n",
       "      <td>53</td>\n",
       "      <td>76</td>\n",
       "      <td>74</td>\n",
       "      <td>111</td>\n",
       "    </tr>\n",
       "    <tr>\n",
       "      <th>1</th>\n",
       "      <td>105</td>\n",
       "      <td>108</td>\n",
       "      <td>114</td>\n",
       "      <td>55</td>\n",
       "    </tr>\n",
       "    <tr>\n",
       "      <th>2</th>\n",
       "      <td>103</td>\n",
       "      <td>66</td>\n",
       "      <td>62</td>\n",
       "      <td>86</td>\n",
       "    </tr>\n",
       "    <tr>\n",
       "      <th>3</th>\n",
       "      <td>121</td>\n",
       "      <td>53</td>\n",
       "      <td>33</td>\n",
       "      <td>16</td>\n",
       "    </tr>\n",
       "    <tr>\n",
       "      <th>4</th>\n",
       "      <td>93</td>\n",
       "      <td>118</td>\n",
       "      <td>84</td>\n",
       "      <td>74</td>\n",
       "    </tr>\n",
       "  </tbody>\n",
       "</table>\n",
       "</div>"
      ],
      "text/plain": [
       "     a    b    c    d\n",
       "0   53   76   74  111\n",
       "1  105  108  114   55\n",
       "2  103   66   62   86\n",
       "3  121   53   33   16\n",
       "4   93  118   84   74"
      ]
     },
     "execution_count": 32,
     "metadata": {},
     "output_type": "execute_result"
    }
   ],
   "source": [
    "#Create a dataframe using a col\n",
    "df = pd.DataFrame(np.random.randint(1,125,size=(10,4)),columns=['a','b','c','d'])\n",
    "df.head()"
   ]
  },
  {
   "cell_type": "markdown",
   "metadata": {},
   "source": [
    "**Subplot Object oriented method: Bar Plot and Line Plot**\n"
   ]
  },
  {
   "cell_type": "code",
   "execution_count": 34,
   "metadata": {},
   "outputs": [
    {
     "data": {
      "image/png": "[encoded data removed]",
      "text/plain": [
       "<Figure size 720x216 with 2 Axes>"
      ]
     },
     "metadata": {
      "needs_background": "light"
     },
     "output_type": "display_data"
    }
   ],
   "source": [
    "#Use fig and axes to create a subplots\n",
    "#Use axes to specify the plot position\n",
    "#Create a first plot for median values of a column, Set title and x and y axis labels\n",
    "\n",
    "fig,ax = plt.subplots(nrows=1,ncols=2,figsize=(10,3),squeeze=False)\n",
    "\n",
    "ax[0][0].bar(x=df.columns,height=df.median())\n",
    "ax[0][0].set_title('Median')\n",
    "ax[0][0].set_xlabel('Columns')\n",
    "ax[0][0].set_ylabel('Median Value')\n",
    "\n",
    "x = np.arange(1,5)\n",
    "#Create a second plot for mean values of a column, Set title and x and y axis labels\n",
    "ax[0][1].bar(x=df.columns,height=df.mean())\n",
    "ax[0][1].set_title('Mean')\n",
    "ax[0][1].set_xlabel('Mean Value')\n",
    "ax[0][1].set_ylabel('Columns')\n",
    "plt.show()"
   ]
  }
 ],
 "metadata": {
  "kernelspec": {
   "display_name": "Python 3",
   "language": "python",
   "name": "python3"
  },
  "language_info": {
   "codemirror_mode": {
    "name": "ipython",
    "version": 3
   },
   "file_extension": ".py",
   "mimetype": "text/x-python",
   "name": "python",
   "nbconvert_exporter": "python",
   "pygments_lexer": "ipython3",
   "version": "3.8.8"
  }
 },
 "nbformat": 4,
 "nbformat_minor": 2
}
